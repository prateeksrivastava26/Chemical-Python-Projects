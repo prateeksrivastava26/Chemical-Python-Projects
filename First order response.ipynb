{
 "cells": [
  {
   "cell_type": "markdown",
   "id": "f2677773",
   "metadata": {},
   "source": [
    "# Response of First order System to Step Input"
   ]
  },
  {
   "cell_type": "markdown",
   "id": "621c4dde",
   "metadata": {},
   "source": [
    "Some of the examples of first order systems are:<br>\n",
    "1.) Liquid Level Tank <br>\n",
    "2.) Temperature of Thermometer <br>\n",
    "3.) Temperature change of vessel contents <br>"
   ]
  },
  {
   "cell_type": "markdown",
   "id": "27c8e206",
   "metadata": {},
   "source": [
    "The transfer function $G_s$ of first order system is given by <br>\n",
    "\n",
    " $$G_s = Y(s)/X(s) = K_p/ (τ_p s + 1)$$\n",
    " \n"
   ]
  },
  {
   "cell_type": "markdown",
   "id": "2e1126d5",
   "metadata": {},
   "source": [
    "Where <br> $K_p$ = steady-state gain, or static gain or simply gain. <br>\n",
    "$τ_p$ = time constant of the process <br>\n",
    "Y(s) = Output of the transfer function <br>\n",
    "X(s) = Input for the transfer function"
   ]
  },
  {
   "cell_type": "markdown",
   "id": "84ae8d22",
   "metadata": {},
   "source": [
    "For the case of step input, the response of first - order system is given by:"
   ]
  },
  {
   "cell_type": "markdown",
   "id": "01132a92",
   "metadata": {},
   "source": [
    "$$ y(t) = AK_p (1 - e^{-t/τp} )$$"
   ]
  },
  {
   "cell_type": "markdown",
   "id": "93301fe0",
   "metadata": {},
   "source": [
    "A dimensionless plot of the system response to step input is given below:"
   ]
  },
  {
   "cell_type": "code",
   "execution_count": 4,
   "id": "b5a624ce",
   "metadata": {},
   "outputs": [],
   "source": [
    "import numpy as np  #importing numpy\n",
    "import matplotlib.pyplot as plt  #importing pyplot"
   ]
  },
  {
   "cell_type": "markdown",
   "id": "507dadf1",
   "metadata": {},
   "source": [
    "Denoting $t/τp$ as list_t <br>\n",
    "Denoting $y(t)/AK_p$ as values\n",
    "\n",
    "A = 1 <br>\n",
    "Kp = 0.5 --> y(t) = 0.5(1-e^(-t/τp)\n"
   ]
  },
  {
   "cell_type": "code",
   "execution_count": 96,
   "id": "5cf58bb5",
   "metadata": {},
   "outputs": [],
   "source": [
    "τp = 2   # time constant\n",
    "empty_list = []\n",
    "t = np.linspace (0,12) #equally spaced points for time value between 0 and 12\n",
    "list_T = -(t/τp)\n",
    "list_t = (t/τp)\n",
    "\n",
    "#raising e to each element in the list. Considering e = 2.71\n",
    "for a in list_T:\n",
    "    a = (1-(2.71**a))\n",
    "    empty_list.append(float(a))  #for inserting all the values obtained, in the empty list.\n",
    "                                 #if you use print function inside the for loop, it will show you all the characters\n",
    "                                 #since it is in local scope (inside loop)\n",
    "                                 #but in the global scope (outside loop), print function will show the last value only.\n",
    "                                 \n",
    "\n",
    "values = np.array(empty_list)  #you cannot directly multiply list types with float types. \n",
    "                               #So will have to convert over to an array\n",
    "                               #now we have a list with 0.5(1-e^(-t/τp) which is nothing but y(t) from main equation\n"
   ]
  },
  {
   "cell_type": "code",
   "execution_count": 98,
   "id": "f3eda64c",
   "metadata": {},
   "outputs": [],
   "source": [
    "yaxis = values % 0.5    #𝑦(𝑡)/𝐴𝐾𝑝  ; here A = 1 and Kp = 0.5 so basically dividing y by 0.5"
   ]
  },
  {
   "cell_type": "code",
   "execution_count": 99,
   "id": "cd69f34f",
   "metadata": {},
   "outputs": [
    {
     "data": {
      "text/plain": [
       "Text(0, 0.5, 'y(t)/AKp')"
      ]
     },
     "execution_count": 99,
     "metadata": {},
     "output_type": "execute_result"
    },
    {
     "data": {
      "image/png": "[encoded data removed]",
      "text/plain": [
       "<Figure size 432x288 with 1 Axes>"
      ]
     },
     "metadata": {
      "needs_background": "light"
     },
     "output_type": "display_data"
    }
   ],
   "source": [
    " #Creating (y(t)/AKp vs t/τp)\n",
    "\n",
    "plt.plot(list_t, values)\n",
    "plt.xlabel('t/τp')\n",
    "plt.ylabel('y(t)/AKp')"
   ]
  },
  {
   "cell_type": "code",
   "execution_count": null,
   "id": "d62b3d42",
   "metadata": {},
   "outputs": [],
   "source": []
  }
 ],
 "metadata": {
  "kernelspec": {
   "display_name": "Python 3 (ipykernel)",
   "language": "python",
   "name": "python3"
  },
  "language_info": {
   "codemirror_mode": {
    "name": "ipython",
    "version": 3
   },
   "file_extension": ".py",
   "mimetype": "text/x-python",
   "name": "python",
   "nbconvert_exporter": "python",
   "pygments_lexer": "ipython3",
   "version": "3.9.12"
  }
 },
 "nbformat": 4,
 "nbformat_minor": 5
}
